{
  "nbformat": 4,
  "nbformat_minor": 0,
  "metadata": {
    "colab": {
      "provenance": [],
      "toc_visible": true,
      "authorship_tag": "ABX9TyPBrt4g10H7zzk1tUf785Qz",
      "include_colab_link": true
    },
    "kernelspec": {
      "name": "python3",
      "display_name": "Python 3"
    },
    "language_info": {
      "name": "python"
    }
  },
  "cells": [
    {
      "cell_type": "markdown",
      "metadata": {
        "id": "view-in-github",
        "colab_type": "text"
      },
      "source": [
        "<a href=\"https://colab.research.google.com/github/Leticia-Gobbi88/AI-Evoolve/blob/main/AnaliseSentimento.ipynb\" target=\"_parent\"><img src=\"https://colab.research.google.com/assets/colab-badge.svg\" alt=\"Open In Colab\"/></a>"
      ]
    },
    {
      "cell_type": "code",
      "source": [
        "!pip install langdetect\n"
      ],
      "metadata": {
        "id": "XYtksA3VlhtX"
      },
      "execution_count": null,
      "outputs": []
    },
    {
      "cell_type": "code",
      "execution_count": 15,
      "metadata": {
        "id": "n0hmIeTzkIFA"
      },
      "outputs": [],
      "source": [
        "import zipfile\n",
        "\n",
        "# Caminho para o arquivo zip\n",
        "zip_path = \"/content/analiseSentimento.zip\"\n",
        "\n",
        "# Extraindo o conteúdo do arquivo zip\n",
        "with zipfile.ZipFile(zip_path, 'r') as zip_ref:\n",
        "    zip_ref.extractall(\"/content/\")\n"
      ]
    },
    {
      "cell_type": "code",
      "source": [
        "import os\n",
        "\n",
        "# Listando os arquivos extraídos\n",
        "extracted_files = os.listdir(\"/content/\")\n",
        "print(extracted_files)\n"
      ],
      "metadata": {
        "colab": {
          "base_uri": "https://localhost:8080/"
        },
        "id": "ZDbKQ2CFl7Hh",
        "outputId": "d330d494-dca2-463e-cf03-e297e977d62c"
      },
      "execution_count": 16,
      "outputs": [
        {
          "output_type": "stream",
          "name": "stdout",
          "text": [
            "['.config', 'TestDatasets', 'TweetsNeutralNews.csv', 'trainingdatasets', 'TweetsWithTheme.csv', 'NoThemeTweets.csv', 'testdatasets', 'TrainingDatasets', 'TweetsNeutralHash.csv', 'analiseSentimento.zip', 'sample_data']\n"
          ]
        }
      ]
    },
    {
      "cell_type": "code",
      "source": [
        "import pandas as pd\n",
        "\n",
        "# Caminho para o arquivo CSV\n",
        "file_path = \"/content/TweetsNeutralNews.csv\"\n",
        "\n",
        "# Carregando o arquivo no pandas\n",
        "tweets_df = pd.read_csv(file_path)\n",
        "\n",
        "# Visualizando as primeiras linhas\n",
        "print(tweets_df.head())\n"
      ],
      "metadata": {
        "colab": {
          "base_uri": "https://localhost:8080/"
        },
        "id": "y1bk13e_mfu_",
        "outputId": "880f8b54-2b89-4c2e-8fd7-f28d016d7767"
      },
      "execution_count": 17,
      "outputs": [
        {
          "output_type": "stream",
          "name": "stdout",
          "text": [
            "                    id                                         tweet_text  \\\n",
            "0  1038992008461930496  Esquerda e direita empatam na Suécia; ultranac...   \n",
            "1  1038873557902782465  Ao vivo: Estadão e TV Gazeta realizam terceiro...   \n",
            "2  1038869931398516736  FOTOS: Apoiadores de Jair Bolsonaro realizam a...   \n",
            "3  1038867128886198273  Barroso ameaça barrar propaganda se PT insisti...   \n",
            "4  1038859914339409920  Serena Williams é multada pelo comportamento d...   \n",
            "\n",
            "                       tweet_date sentiment query_used  \n",
            "0  Mon Sep 10 03:26:13 +0000 2018    Neutro       veja  \n",
            "1  Sun Sep 09 19:35:32 +0000 2018    Neutro       veja  \n",
            "2  Sun Sep 09 19:21:07 +0000 2018    Neutro       veja  \n",
            "3  Sun Sep 09 19:09:59 +0000 2018    Neutro       veja  \n",
            "4  Sun Sep 09 18:41:19 +0000 2018    Neutro       veja  \n"
          ]
        }
      ]
    },
    {
      "cell_type": "code",
      "source": [
        "# Particionando os dados em 10%\n",
        "amostra_df = tweets_df.sample(frac=0.1, random_state=42)\n",
        "\n",
        "# Visualizando a amostra\n",
        "print(amostra_df.head())\n"
      ],
      "metadata": {
        "colab": {
          "base_uri": "https://localhost:8080/"
        },
        "id": "iXocPFC0my0x",
        "outputId": "fb33a6ec-8226-4ff4-dcab-7fdb71248b76"
      },
      "execution_count": 18,
      "outputs": [
        {
          "output_type": "stream",
          "name": "stdout",
          "text": [
            "                        id                                         tweet_text  \\\n",
            "25753  1043915398524080128  Risco com PT seria maior do que com Bolsonaro,...   \n",
            "14786  1028302510296059904  Fracasso das políticas capitalistas torna o so...   \n",
            "36667  1049751355332550656  Grupo de advogados organiza frente contra Bols...   \n",
            "608    1034180101850714117         Lisboa Gastronomia https://t.co/ahcgVaM3GM   \n",
            "34424  1051288850553864192         Madalena Gastrobar https://t.co/fDobjo1KoP   \n",
            "\n",
            "                           tweet_date sentiment query_used  \n",
            "25753  Sun Sep 23 17:30:00 +0000 2018    Neutro      folha  \n",
            "14786  Sat Aug 11 15:29:58 +0000 2018    Neutro    estadao  \n",
            "36667  Tue Oct 09 20:00:01 +0000 2018    Neutro      folha  \n",
            "608    Mon Aug 27 20:45:25 +0000 2018    Neutro       veja  \n",
            "34424  Sun Oct 14 01:49:28 +0000 2018    Neutro       veja  \n"
          ]
        }
      ]
    },
    {
      "cell_type": "code",
      "source": [
        "from langdetect import detect\n",
        "\n",
        "# Função para detectar o idioma de um texto\n",
        "def detect_language(text):\n",
        "    try:\n",
        "        return detect(text)\n",
        "    except:\n",
        "        return \"erro\"\n",
        "\n",
        "# Aplicando a função para detectar a linguagem\n",
        "amostra_df['detected_language'] = amostra_df['tweet_text'].apply(detect_language)\n",
        "\n",
        "# Visualizando as primeiras linhas da amostra com a detecção de linguagem\n",
        "print(amostra_df[['tweet_text', 'detected_language']].head())\n"
      ],
      "metadata": {
        "colab": {
          "base_uri": "https://localhost:8080/"
        },
        "id": "i9X2QHJQm3LR",
        "outputId": "052e1cbb-5e71-4d66-e060-c85266ec1481"
      },
      "execution_count": 19,
      "outputs": [
        {
          "output_type": "stream",
          "name": "stdout",
          "text": [
            "                                              tweet_text detected_language\n",
            "25753  Risco com PT seria maior do que com Bolsonaro,...                pt\n",
            "14786  Fracasso das políticas capitalistas torna o so...                pt\n",
            "36667  Grupo de advogados organiza frente contra Bols...                pt\n",
            "608           Lisboa Gastronomia https://t.co/ahcgVaM3GM                pt\n",
            "34424         Madalena Gastrobar https://t.co/fDobjo1KoP                es\n"
          ]
        }
      ]
    },
    {
      "cell_type": "code",
      "source": [
        "import matplotlib.pyplot as plt\n",
        "\n",
        "# Contando a frequência de cada idioma\n",
        "language_counts = amostra_df['detected_language'].value_counts()\n",
        "\n",
        "# Plotando um gráfico de barras\n",
        "plt.figure(figsize=(10, 6))\n",
        "language_counts.plot(kind='bar', color='skyblue')\n",
        "plt.xlabel('Idioma Detectado')\n",
        "plt.ylabel('Frequência')\n",
        "plt.title('Frequência dos Idiomas Detectados nos Tweets')\n",
        "plt.xticks(rotation=45)\n",
        "plt.show()\n"
      ],
      "metadata": {
        "colab": {
          "base_uri": "https://localhost:8080/",
          "height": 580
        },
        "id": "8Vr4pjaAnj2a",
        "outputId": "5788cd92-2772-45cd-f3bf-207195954f00"
      },
      "execution_count": 20,
      "outputs": [
        {
          "output_type": "display_data",
          "data": {
            "text/plain": [
              "<Figure size 1000x600 with 1 Axes>"
            ],
            "image/png": "[encoded data removed]"
          },
          "metadata": {}
        }
      ]
    }
  ]
}